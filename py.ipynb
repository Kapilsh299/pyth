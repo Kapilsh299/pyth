{
 "cells": [
  {
   "cell_type": "markdown",
   "id": "d1d7687b-559c-4a39-b56e-d563be982182",
   "metadata": {},
   "source": [
    "# Data Science Tools and Techniques\n"
   ]
  },
  {
   "cell_type": "markdown",
   "id": "d5516051-e1d7-41d0-adfc-17832b3f90fb",
   "metadata": {},
   "source": [
    "## Introduction\n",
    "This notebook provides an overview of various tools and techniques used in Data Science. It covers popular languages, libraries, tools, and some basic arithmetic operations.\n"
   ]
  },
  {
   "cell_type": "markdown",
   "id": "f8d7b339-1616-439b-bdc9-858f5fb764ca",
   "metadata": {},
   "source": [
    "## Data Science Languages\n",
    "- Python\n",
    "- R\n",
    "- SQL\n",
    "- Julia\n",
    "- Scala\n"
   ]
  },
  {
   "cell_type": "markdown",
   "id": "b9385b45-ec5b-4abc-b539-bb1104a6def7",
   "metadata": {},
   "source": [
    "## Data Science Libraries\n",
    "- Pandas\n",
    "- NumPy\n",
    "- Matplotlib\n",
    "- Scikit-learn\n",
    "- TensorFlow\n",
    "- Keras\n"
   ]
  },
  {
   "cell_type": "markdown",
   "id": "fbba3e26-96d0-4a0b-9365-020baa74b168",
   "metadata": {},
   "source": [
    "## Data Science Tools\n",
    "| Tool         | Description                      |\n",
    "|--------------|----------------------------------|\n",
    "| Jupyter      | Interactive computing environment|\n",
    "| RStudio      | IDE for R                        |\n",
    "| Apache Spark | Cluster-computing framework      |\n",
    "| TensorFlow   | Machine learning library         |\n"
   ]
  },
  {
   "cell_type": "markdown",
   "id": "3eb425fe-e45b-46ac-93e6-e8839ac9be4b",
   "metadata": {},
   "source": [
    "## Arithmetic Expression Examples\n",
    "Below are examples of basic arithmetic operations such as addition and multiplication.\n"
   ]
  },
  {
   "cell_type": "markdown",
   "id": "006a6e71-b16c-494b-868c-6b41b84f77c7",
   "metadata": {},
   "source": [
    "# Multiplication and addition\n",
    "a = 5\n",
    "b = 4\n",
    "result = a * b + a\n",
    "result\n"
   ]
  },
  {
   "cell_type": "markdown",
   "id": "b703d440-55b8-41e8-94ec-1ae704f7221e",
   "metadata": {},
   "source": [
    "# Convert minutes to hours\n",
    "minutes = 150\n",
    "hours = minutes / 60\n",
    "hours\n"
   ]
  },
  {
   "cell_type": "markdown",
   "id": "a82ed7da-de4e-48d8-ab8d-999377ae6a7a",
   "metadata": {},
   "source": [
    "## Objectives\n",
    "- Understand various data science languages.\n",
    "- Learn about popular data science libraries.\n",
    "- Familiarize with key data science tools.\n",
    "- Practice basic arithmetic operations in Python.\n"
   ]
  },
  {
   "cell_type": "markdown",
   "id": "75b50047-b670-4d8e-a732-0c3651af8e6b",
   "metadata": {},
   "source": [
    "## Author\n",
    "Kapil Sharma \n"
   ]
  },
  {
   "cell_type": "code",
   "execution_count": null,
   "id": "67f75666-d13b-4bbe-903b-8cf4760f6400",
   "metadata": {},
   "outputs": [],
   "source": []
  }
 ],
 "metadata": {
  "kernelspec": {
   "display_name": "Python 3 (ipykernel)",
   "language": "python",
   "name": "python3"
  },
  "language_info": {
   "codemirror_mode": {
    "name": "ipython",
    "version": 3
   },
   "file_extension": ".py",
   "mimetype": "text/x-python",
   "name": "python",
   "nbconvert_exporter": "python",
   "pygments_lexer": "ipython3",
   "version": "3.11.5"
  }
 },
 "nbformat": 4,
 "nbformat_minor": 5
}
